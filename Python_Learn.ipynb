{
 "cells": [
  {
   "cell_type": "markdown",
   "metadata": {},
   "source": [
    "# 0. All function\n",
    "## a. general\n",
    "str_input = input()  \n",
    "expression for item in iterable -> generator\n",
    "new_list = [expression for item in iterable]  \n",
    "sorted(iterable, key = ..., reverse = False)  \n",
    "max(iterable, key = ..., reverse = False)  \n",
    "map(function, iterable) -> generator  \n",
    "filter(function, iterable) -> generator  \n",
    "len(iterable)  \n",
    "sum(iterable, start_number)  \n",
    "iterable: any structure that can be iterated  \n",
    "iterator (a kind of iterable): only can iterated once  \n",
    "generator (a kind of iterator):  lazy load \n",
    "\n",
    "## b. str\n",
    "ls1 = str_1.split()  \n",
    "str_upper = str_1.upper()  \n",
    "str_lower = str_1.lower()  \n",
    "str_cap = str_1.capitalize()  \n",
    "str_title = str_1.title()  \n",
    "str_nospace = str_space.strip()  \n",
    "str_replace1 = str_1.replace(str_original, str_new)  \n",
    "count(substring, start_idx (include), end_idx (exclude))  \n",
    "find(substring, start_idx, end_idx)  \n",
    "\n",
    "## c. lambda\n",
    "lambda param1, param2, ... : expression"
   ]
  },
  {
   "cell_type": "markdown",
   "metadata": {},
   "source": [
    "## d. loop\n",
    "enumerate(iterable) -> index, item  \n",
    "zip(iterable1, iterable2) -> pair  "
   ]
  },
  {
   "cell_type": "markdown",
   "metadata": {},
   "source": [
    "# 1. Default\n",
    "## a. input"
   ]
  },
  {
   "cell_type": "code",
   "execution_count": null,
   "metadata": {},
   "outputs": [],
   "source": [
    "# str_input = input()\n",
    "# print(str_input)"
   ]
  },
  {
   "cell_type": "code",
   "execution_count": null,
   "metadata": {},
   "outputs": [],
   "source": [
    "# str_input = input().split() # use \" \" to split\n",
    "# print(str_input)\n",
    "# print(type(str_input))"
   ]
  },
  {
   "cell_type": "code",
   "execution_count": null,
   "metadata": {},
   "outputs": [],
   "source": [
    "# arr = input().split()\n",
    "# print(arr)\n",
    "# print(type(arr))\n",
    "# print(max(arr))\n",
    "# print(type(max(arr)))"
   ]
  },
  {
   "cell_type": "code",
   "execution_count": null,
   "metadata": {},
   "outputs": [],
   "source": [
    "# arr = [int(x) for x in input().split()]\n",
    "# print(arr)\n",
    "# print(type(arr))\n",
    "# print(max(arr))\n",
    "# print(type(max(arr)))"
   ]
  },
  {
   "cell_type": "markdown",
   "metadata": {},
   "source": [
    "## b. List Comprehention"
   ]
  },
  {
   "cell_type": "markdown",
   "metadata": {},
   "source": [
    "new_list = [expression for item in iterable]"
   ]
  },
  {
   "cell_type": "code",
   "execution_count": null,
   "metadata": {},
   "outputs": [],
   "source": [
    "arr = [i ** 2 for i in range(10)]\n",
    "arr"
   ]
  },
  {
   "cell_type": "code",
   "execution_count": null,
   "metadata": {},
   "outputs": [],
   "source": [
    "# only if\n",
    "arr = [i for i in range(20) if i % 2 == 0]\n",
    "arr"
   ]
  },
  {
   "cell_type": "code",
   "execution_count": null,
   "metadata": {},
   "outputs": [],
   "source": [
    "# if and else, (() if () else ()) is an item\n",
    "arr = [i if i % 2 == 0 else 1 for i in range(20)]\n",
    "arr"
   ]
  },
  {
   "cell_type": "code",
   "execution_count": null,
   "metadata": {},
   "outputs": [],
   "source": [
    "matrix = [[1, 2, 3], [4, 5], [6]]\n",
    "# arr = [x for x in y for y in matrix]    # Wrong\n",
    "arr = [x for y in matrix for x in y]    # Right \n",
    "# Equals to\n",
    "# for y in matrix:   \n",
    "#     for x in y:     \n",
    "#         arr.append(x)\n",
    "arr"
   ]
  },
  {
   "cell_type": "code",
   "execution_count": null,
   "metadata": {},
   "outputs": [],
   "source": [
    "num = [1, -2, 3, 5, 0, -6]\n",
    "arr = [True if x > 0 else False for x in num]\n",
    "arr"
   ]
  },
  {
   "cell_type": "code",
   "execution_count": null,
   "metadata": {},
   "outputs": [],
   "source": [
    "arr = [str(x) for x in num]\n",
    "arr"
   ]
  },
  {
   "cell_type": "code",
   "execution_count": null,
   "metadata": {},
   "outputs": [],
   "source": [
    "arr = [i for i in range(1, 101) if i % 3 == 0 and i % 5 == 0]\n",
    "arr"
   ]
  },
  {
   "cell_type": "code",
   "execution_count": null,
   "metadata": {},
   "outputs": [],
   "source": [
    "input_list = [\"hi\", \"yo!\", \"123\", \"bye\"]\n",
    "arr = [s.upper() for s in input_list if s.isalpha()]\n",
    "arr"
   ]
  },
  {
   "cell_type": "code",
   "execution_count": null,
   "metadata": {},
   "outputs": [],
   "source": [
    "'''\n",
    "# import time\n",
    "\n",
    "# NUMBER = 5000\n",
    "\n",
    "# def main():\n",
    "#     num = 0\n",
    "#     start_time = time.time()\n",
    "\n",
    "#     for a in range(1, NUMBER + 1):\n",
    "#         b = a\n",
    "#         c = 1\n",
    "#         k = a * a\n",
    "#         while b <= NUMBER:\n",
    "#             i = k + b * b\n",
    "#             j = c * c * c\n",
    "#             if i < j:\n",
    "#                 b += 1\n",
    "#             elif i > j:\n",
    "#                 c += 1\n",
    "#             else:\n",
    "#                 if a == b:\n",
    "#                     print(f\"{a} ^ 2 + {b} ^ 2 = {c} ^ 3\")\n",
    "#                     b += 1\n",
    "#                     c += 1\n",
    "#                     num += 1\n",
    "#                 else:\n",
    "#                     print(f\"{a} ^ 2 + {b} ^ 2 = {c} ^ 3\")\n",
    "#                     print(f\"{b} ^ 2 + {a} ^ 2 = {c} ^ 3\")\n",
    "#                     b += 1\n",
    "#                     c += 1\n",
    "#                     num += 2\n",
    "#     print(f\"Total: {num}\")\n",
    "\n",
    "#     end_time = time.time()\n",
    "#     print(f\"Execution Time: {end_time - start_time:.6f} seconds\")\n",
    "\n",
    "# if __name__ == \"__main__\":\n",
    "#     main()\n",
    "'''"
   ]
  },
  {
   "cell_type": "markdown",
   "metadata": {},
   "source": [
    "## c. String"
   ]
  },
  {
   "cell_type": "markdown",
   "metadata": {},
   "source": [
    "Can't use index to change string directly.\n",
    "Use string -> list -> string.\n"
   ]
  },
  {
   "cell_type": "code",
   "execution_count": null,
   "metadata": {},
   "outputs": [],
   "source": [
    "# Slice\n",
    "str_1 = \"Hello World\"\n",
    "print(str_1[:3])\n",
    "print(str_1[::-1])    # reverse"
   ]
  },
  {
   "cell_type": "code",
   "execution_count": null,
   "metadata": {},
   "outputs": [],
   "source": [
    "# str_1ing to list\n",
    "ls1 = str_1.split()\n",
    "print(ls1)\n",
    "\n",
    "ls2 = [s for s in str_1]\n",
    "print(ls2)"
   ]
  },
  {
   "cell_type": "code",
   "execution_count": null,
   "metadata": {},
   "outputs": [],
   "source": []
  },
  {
   "cell_type": "code",
   "execution_count": null,
   "metadata": {},
   "outputs": [],
   "source": [
    "# List to String\n",
    "str1 = \" \".join(ls1)\n",
    "print(str1)\n",
    "\n",
    "str2 = \" \".join(ls2)\n",
    "print(str2)"
   ]
  },
  {
   "cell_type": "code",
   "execution_count": null,
   "metadata": {},
   "outputs": [],
   "source": [
    "str_upper = str_1.upper()\n",
    "str_lower = str_1.lower()\n",
    "str_cap = str_1.capitalize()\n",
    "str_title = str_1.title()\n",
    "\n",
    "print(str_upper, str_lower, str_cap, str_title)"
   ]
  },
  {
   "cell_type": "code",
   "execution_count": null,
   "metadata": {},
   "outputs": [],
   "source": [
    "str_space = \"   Hello   World    \"\n",
    "str_nospace = str_space.strip()\n",
    "print(str_nospace)"
   ]
  },
  {
   "cell_type": "code",
   "execution_count": null,
   "metadata": {},
   "outputs": [],
   "source": [
    "str_replace1 = str_1.replace(\"Hello\", \"Bye\")\n",
    "print(str_replace1)\n",
    "str_replace2 = str_1.replace(\"Hel\", \"Yel\")\n",
    "print(str_replace2)\n",
    "str_replace3 = str_1.replace(\"l\", \"w\", 2) # Only change 2 l\n",
    "print(str_replace3)"
   ]
  },
  {
   "cell_type": "code",
   "execution_count": null,
   "metadata": {},
   "outputs": [],
   "source": [
    "str_1.startswith('H') # True\n",
    "str_1.startswith('h') # False\n",
    "str_1.endswith('d')   # True\n",
    "'d' in str_1          # True\n",
    "str_1.count('l')      # 3\n",
    "str_1.find('l')       # 2 (找到第一個出現的idx)"
   ]
  },
  {
   "cell_type": "markdown",
   "metadata": {},
   "source": [
    "count(substring, start_idx (include), end_idx (exclude))\n",
    "\n",
    "find(substring, start_idx, end_idx)\n",
    "\n",
    "Can use find to find all substring position"
   ]
  },
  {
   "cell_type": "code",
   "execution_count": null,
   "metadata": {},
   "outputs": [],
   "source": [
    "str_1 = \"banana banana banana\"\n",
    "print(str_1.count(\"an\"))          # 6\n",
    "print(str_1.count(\"an\", 5))       # 4, because start counting from 5\n",
    "print(str_1.count(\"an\", 0, 4))    # 1, end to 4 (exclude)\n",
    "\n",
    "str_1 = \"aaaaa\"\n",
    "print(str_1.count(\"aaa\"))         # 1"
   ]
  },
  {
   "cell_type": "code",
   "execution_count": null,
   "metadata": {},
   "outputs": [],
   "source": [
    "# Find Position without repeat\n",
    "str_1 = \"banana banana banana\"\n",
    "tar = \"ana\"\n",
    "pos = -len(tar)\n",
    "\n",
    "while True:\n",
    "    pos = str_1.find(tar, pos + len(tar))\n",
    "    if pos == -1:\n",
    "        break\n",
    "    print(f\"{tar} at {pos} index\")\n"
   ]
  },
  {
   "cell_type": "code",
   "execution_count": null,
   "metadata": {},
   "outputs": [],
   "source": [
    "# Find Position with repeat\n",
    "str_1 = \"banana banana banana\"\n",
    "tar = \"ana\"\n",
    "pos = -1\n",
    "\n",
    "while True:\n",
    "    pos = str_1.find(tar, pos + 1)\n",
    "    if pos == -1:\n",
    "        break\n",
    "    print(f\"{tar} at {pos} index\")"
   ]
  },
  {
   "cell_type": "markdown",
   "metadata": {},
   "source": [
    "## d. lambda\n",
    "lambda 參數1, 參數2, ... : 表達式\n",
    "\n",
    "Use lambda in max, filter, sorted for condition"
   ]
  },
  {
   "cell_type": "code",
   "execution_count": null,
   "metadata": {},
   "outputs": [],
   "source": [
    "# Original\n",
    "def add(a, b):\n",
    "    return a + b\n",
    "\n",
    "# Use lambda\n",
    "add_lambda = lambda a, b: a + b\n",
    "\n",
    "print(add(3, 5))        \n",
    "print(add_lambda(3, 5)) \n"
   ]
  },
  {
   "cell_type": "markdown",
   "metadata": {},
   "source": [
    "iterable: can take something out from - \n",
    "1. list\n",
    "2. tuple\n",
    "3. str\n",
    "4. set\n",
    "5. dict\n",
    "6. range()\n",
    "7. generator"
   ]
  },
  {
   "cell_type": "markdown",
   "metadata": {},
   "source": [
    "sorted(iterable, key = ..., reverse = False)"
   ]
  },
  {
   "cell_type": "code",
   "execution_count": null,
   "metadata": {},
   "outputs": [],
   "source": [
    "people = [{\"name\": \"Alice\", \"age\": 25}, {\"name\": \"Bob\", \"age\": 22}]\n",
    "sorted_people = sorted(people, key = lambda x: x['age'])\n",
    "sorted_people"
   ]
  },
  {
   "cell_type": "code",
   "execution_count": null,
   "metadata": {},
   "outputs": [],
   "source": [
    "data = [\n",
    "    (3, -4, 1),\n",
    "    (3, 2, 1),\n",
    "    (3, -1, 3),\n",
    "    (2, 7, 1),\n",
    "    (2, -5, 1),\n",
    "    (3, -2, 1)\n",
    "]\n",
    "\n",
    "# sort tuple(a, b, c): by a from large to small, if same a, sort c from small to large, if same, sort b by the abs(b) from small to large\n",
    "sorted_data = sorted(\n",
    "    data,\n",
    "    key=lambda x: (-x[0], x[2], abs(x[1]))\n",
    ")\n",
    "\n",
    "print(sorted_data)"
   ]
  },
  {
   "cell_type": "markdown",
   "metadata": {},
   "source": [
    "max(iterable, key = ...)"
   ]
  },
  {
   "cell_type": "code",
   "execution_count": null,
   "metadata": {},
   "outputs": [],
   "source": [
    "max_people = max(people, key = lambda x: x[\"age\"])\n",
    "max_people"
   ]
  },
  {
   "cell_type": "markdown",
   "metadata": {},
   "source": [
    "map(function, iterable)"
   ]
  },
  {
   "cell_type": "code",
   "execution_count": null,
   "metadata": {},
   "outputs": [],
   "source": [
    "arr = [1, 2, 3, 4]\n",
    "# squared = map(lambda x: x ** 2, arr)          # return iterator\n",
    "squared = list(map(lambda x: x ** 2, arr))      # return a true list\n",
    "squared"
   ]
  },
  {
   "cell_type": "markdown",
   "metadata": {},
   "source": [
    "filter(function, iterable)"
   ]
  },
  {
   "cell_type": "code",
   "execution_count": null,
   "metadata": {},
   "outputs": [],
   "source": [
    "arr = [1, 2, 3, 4]\n",
    "# even = map(lambda x: x % 2 == 0, arr)          # return iterator\n",
    "even = list(filter(lambda x: x % 2 == 0, arr))      # return a true list\n",
    "even"
   ]
  },
  {
   "cell_type": "code",
   "execution_count": null,
   "metadata": {},
   "outputs": [],
   "source": [
    "num = [x for x in range(10)]\n",
    "num_odd_square1 = [i ** 2 for i in list(filter(lambda x: x % 2 == 1, num))]\n",
    "num_odd_square2 = list(map(lambda x: x ** 2, [x for x in num if x % 2]))\n",
    "num_odd_square3 = [i ** 2 for i in num if i % 2]"
   ]
  },
  {
   "cell_type": "code",
   "execution_count": null,
   "metadata": {},
   "outputs": [],
   "source": [
    "str_list = [\"hi\", \"hello\", \"elephant\", \"a\"]\n",
    "max_length = max(str_list, key = lambda x: len(x))  # elephant"
   ]
  },
  {
   "cell_type": "markdown",
   "metadata": {},
   "source": [
    "sum(iterable, start)"
   ]
  },
  {
   "cell_type": "code",
   "execution_count": null,
   "metadata": {},
   "outputs": [],
   "source": [
    "sum([[1, 2, 3], [4, 5]], [])    # [1, 2, 3, 4, 5]"
   ]
  },
  {
   "cell_type": "markdown",
   "metadata": {},
   "source": [
    "## e. tuple\n",
    "1. tuple can't be changed!!!\n",
    "2. for multiple return, it return tuple\n",
    "3. can unpackage\n",
    "4. can different type storage"
   ]
  },
  {
   "cell_type": "code",
   "execution_count": null,
   "metadata": {},
   "outputs": [],
   "source": [
    "t = (1, 2, 3)\n",
    "# t[0] = 4  -> Error!\n",
    "\n",
    "def calc(a, b):\n",
    "    return a + b, a * b\n",
    "\n",
    "a, b = calc(4 ,5)\n",
    "a"
   ]
  },
  {
   "cell_type": "code",
   "execution_count": null,
   "metadata": {},
   "outputs": [],
   "source": [
    "info = (\"Alice\", 25, \"Engineer\")\n",
    "Name, age, job = info\n",
    "Name"
   ]
  },
  {
   "cell_type": "code",
   "execution_count": null,
   "metadata": {},
   "outputs": [],
   "source": [
    "num = [1, 2, 3, 4, 5]\n",
    "def stat(num):\n",
    "    return max(num), min(num), sum(num) / len(num)\n",
    "\n",
    "num_max, num_min, num_mean = stat(num)\n",
    "num_mean"
   ]
  },
  {
   "cell_type": "code",
   "execution_count": null,
   "metadata": {},
   "outputs": [],
   "source": [
    "students = [(\"Alice\", 88), (\"Bob\", 92), (\"Cathy\", 69), (\"Dinner\", 99)]\n",
    "def over_90(num):\n",
    "    return [x[0] for x in num if x[1] >= 90]\n",
    "over_90(students)"
   ]
  },
  {
   "cell_type": "code",
   "execution_count": null,
   "metadata": {},
   "outputs": [],
   "source": [
    "class Solution(object):\n",
    "    def splitArray(self, nums):\n",
    "        \"\"\"\n",
    "        :type nums: List[int]\n",
    "        :rtype: int\n",
    "        \"\"\"\n",
    "        # A = []\n",
    "        # B = []\n",
    "        # for k, i in enumerate(nums):\n",
    "        #     if IP(k):\n",
    "        #         A.append(i)            \n",
    "        #     else:\n",
    "        #         B.append(i)\n",
    "\n",
    "        # return abs(sum(A) - sum(B))\n",
    "        A = [0 for i in range(10**5)]\n",
    "        print(A)"
   ]
  },
  {
   "cell_type": "code",
   "execution_count": null,
   "metadata": {},
   "outputs": [],
   "source": [
    "A = [0 for i in range(10**5)]\n",
    "print(A)"
   ]
  },
  {
   "cell_type": "code",
   "execution_count": null,
   "metadata": {},
   "outputs": [],
   "source": [
    "str_list = [\"hi\", \"hello\", \"elephant\", \"a\"]\n",
    "def Info_Print(arr):\n",
    "    for i, word in enumerate(arr):\n",
    "        print(f\"{i}th: {word} with length {len(word)}\")\n",
    "\n",
    "Info_Print(str_list)"
   ]
  },
  {
   "cell_type": "code",
   "execution_count": 1,
   "metadata": {},
   "outputs": [
    {
     "name": "stdout",
     "output_type": "stream",
     "text": [
      "9\n",
      "(1, 10, 100, 1000, 10000)\n",
      "(1, 10, 100, 1, 10, 100, 1, 10, 100)\n",
      "True\n",
      "True\n"
     ]
    }
   ],
   "source": [
    "empty_tuple = ()\n",
    "\n",
    "my_tuple = (1, 10, 100)\n",
    "\n",
    "t1 = my_tuple + (1000, 10000)\n",
    "t2 = my_tuple * 3\n",
    "\n",
    "print(len(t2))\n",
    "print(t1)\n",
    "print(t2)\n",
    "print(10 in my_tuple)\n",
    "print(-10 not in my_tuple)\n"
   ]
  },
  {
   "cell_type": "markdown",
   "metadata": {},
   "source": [
    "## f. loop\n",
    "1. enumerate\n",
    "2. dict\n",
    "3. zip"
   ]
  },
  {
   "cell_type": "code",
   "execution_count": null,
   "metadata": {},
   "outputs": [],
   "source": [
    "num = [1, 2, 3, 4, 5, 6]\n",
    "# for i in range(len(num)):\n",
    "#     print(i, num[i])\n",
    "for idx, element in enumerate(num):\n",
    "    print(idx, element)"
   ]
  },
  {
   "cell_type": "code",
   "execution_count": null,
   "metadata": {},
   "outputs": [],
   "source": [
    "name_ls = [\"Hi\", \"Bob\", \"Ala\", \"Bla\", \"Cla\", \"Da\"]\n",
    "for score, name in zip(num, name_ls):\n",
    "    print(score, name)"
   ]
  },
  {
   "cell_type": "code",
   "execution_count": null,
   "metadata": {},
   "outputs": [],
   "source": [
    "my_dict = {\"a\": 1, \"b\": 2}\n",
    "for key, element in my_dict.items():\n",
    "    print(key, element)\n",
    "\n",
    "for value in my_dict.values():\n",
    "    print(value)\n"
   ]
  },
  {
   "cell_type": "code",
   "execution_count": 2,
   "metadata": {},
   "outputs": [
    {
     "name": "stdout",
     "output_type": "stream",
     "text": [
      "1\n",
      "2\n",
      "3\n",
      "False\n",
      "True\n",
      "4\n",
      "(1, 2, 3, 1, 2, 3, 4)\n",
      "(1, 2, 3, 5, 1, 2, 3, 5)\n"
     ]
    }
   ],
   "source": [
    "# Example 1\n",
    "tuple_1 = (1, 2, 3)\n",
    "for elem in tuple_1:\n",
    "    print(elem)\n",
    "\n",
    "# Example 2\n",
    "tuple_2 = (1, 2, 3, 4)\n",
    "print(5 in tuple_2)\n",
    "print(5 not in tuple_2)\n",
    "\n",
    "# Example 3\n",
    "tuple_3 = (1, 2, 3, 5)\n",
    "print(len(tuple_3))\n",
    "\n",
    "# Example 4\n",
    "tuple_4 = tuple_1 + tuple_2\n",
    "tuple_5 = tuple_3 * 2\n",
    "\n",
    "print(tuple_4)\n",
    "print(tuple_5)\n",
    "\n"
   ]
  },
  {
   "cell_type": "markdown",
   "metadata": {},
   "source": [
    "## g. Dictionary"
   ]
  },
  {
   "cell_type": "code",
   "execution_count": null,
   "metadata": {},
   "outputs": [],
   "source": [
    "my_dict = {\"a\": 1, \"b\": 2, \"c\": 4}\n",
    "# visit\n",
    "print(my_dict[\"b\"])     # 2\n",
    "print(my_dict.get(\"b\", -1)) # 2, this one better!, if not find return -1\n",
    "my_dict[\"d\"] = 3\n",
    "del my_dict[\"a\"]\n",
    "\n",
    "sort_dict_by_key = dict(sorted(my_dict.items()))\n",
    "sort_dict_by_element = dict(sorted(my_dict.items(), key = lambda item: item[1]))\n",
    "sort_dict_by_element_key = dict(sorted(my_dict.items(), key = lambda item: (item[1], item[0])))"
   ]
  },
  {
   "cell_type": "code",
   "execution_count": null,
   "metadata": {},
   "outputs": [],
   "source": [
    "def charFreqCount(s):\n",
    "    charCount = {}                  # need initialized\n",
    "    for i in s:\n",
    "        if i in charCount:\n",
    "            charCount[i] += 1\n",
    "        else:\n",
    "            charCount[i] = 1        # need initialized\n",
    "    return charCount\n",
    "\n",
    "s = \"Hello World\"\n",
    "charFreqCount(s)"
   ]
  },
  {
   "cell_type": "code",
   "execution_count": null,
   "metadata": {},
   "outputs": [],
   "source": [
    "from collections import defaultdict\n",
    "\n",
    "def charFreqCount(s):\n",
    "    charCount = defaultdict(int)             # need initialized\n",
    "    for i in s:\n",
    "        charCount[i] += 1\n",
    "    return dict(charCount)\n",
    "\n",
    "s = \"Hello World\"\n",
    "charFreqCount(s)"
   ]
  },
  {
   "cell_type": "code",
   "execution_count": null,
   "metadata": {},
   "outputs": [],
   "source": [
    "from collections import defaultdict\n",
    "\n",
    "class Solution(object):\n",
    "    def maxSum(self, nums):\n",
    "        \"\"\"\n",
    "        :type nums: List[int]\n",
    "        :rtype: int\n",
    "        \"\"\"\n",
    "        ElementCount = defaultdict(int)\n",
    "        for i in nums:\n",
    "            if i > 0:\n",
    "                ElementCount[i] += 1\n",
    "        \n",
    "        ans = sum(k for k, v in ElementCount.items())\n",
    "        return ans"
   ]
  },
  {
   "cell_type": "code",
   "execution_count": null,
   "metadata": {},
   "outputs": [],
   "source": [
    "from collections import Counter\n",
    "FreqCounter = Counter(s)\n",
    "FreqCounter_dict = dict(FreqCounter)\n",
    "FreqCounter_dict"
   ]
  },
  {
   "cell_type": "code",
   "execution_count": null,
   "metadata": {},
   "outputs": [],
   "source": [
    "dict1 = {'a': 1, 'b': 2}\n",
    "dict2 = {'b': 3, 'c': 4}\n",
    "dict_merge = dict1 | dict2\n",
    "dict_merge"
   ]
  },
  {
   "cell_type": "code",
   "execution_count": null,
   "metadata": {},
   "outputs": [],
   "source": [
    "input_dict = {'a': 1, 'b': 2, 'c': 3}\n",
    "def reverseDict(input_dict):\n",
    "    output_dict = {}\n",
    "    for key, element in input_dict.items():\n",
    "        output_dict[element] = key\n",
    "    return output_dict\n",
    "\n",
    "reverseDict(input_dict)"
   ]
  },
  {
   "cell_type": "code",
   "execution_count": null,
   "metadata": {},
   "outputs": [],
   "source": [
    "text = \"Python is great and Python is dynamic\"\n",
    "\n",
    "def MostFreqWord(s):\n",
    "    FreqTable = {}\n",
    "    s_ls = s.split()\n",
    "    for w in s_ls:\n",
    "        if w.lower() in FreqTable:\n",
    "            FreqTable[w.lower()] += 1\n",
    "        else:\n",
    "            FreqTable[w.lower()] = 1\n",
    "    maxItem = max(FreqTable.items(), key = lambda item: item[1])\n",
    "    return maxItem\n",
    "\n",
    "MostFreqWord(text)"
   ]
  },
  {
   "cell_type": "code",
   "execution_count": null,
   "metadata": {},
   "outputs": [],
   "source": [
    "text = \"Python is great and Python is dynamic\"\n",
    "\n",
    "def MostFreqWord(s):\n",
    "    FreqTable = {}\n",
    "    s_ls = s.split()\n",
    "    for w in s_ls:\n",
    "        if w.lower() in FreqTable:\n",
    "            FreqTable[w.lower()] += 1\n",
    "        else:\n",
    "            FreqTable[w.lower()] = 1\n",
    "    maxFreq = max(FreqTable.values())\n",
    "    maxItem = [x[0] for x in FreqTable.items() if x[1] == maxFreq]\n",
    "    return maxItem, maxFreq\n",
    "\n",
    "MostFreqWord(text)"
   ]
  },
  {
   "cell_type": "code",
   "execution_count": null,
   "metadata": {},
   "outputs": [],
   "source": [
    "from collections import defaultdict\n",
    "\n",
    "scores = [\n",
    "    {\"name\": \"Alice\", \"score\": 85},\n",
    "    {\"name\": \"Bob\", \"score\": 90},\n",
    "    {\"name\": \"Alice\", \"score\": 95},\n",
    "    {\"name\": \"Bob\", \"score\": 80}\n",
    "]\n",
    "\n",
    "def SortScore(scores):\n",
    "    ScoreTable = defaultdict(int)\n",
    "    for Student_dict in scores:\n",
    "        ScoreTable[Student_dict[\"name\"]] += Student_dict[\"score\"]\n",
    "    return sorted(dict(ScoreTable).items(), key = lambda x: x[1], reverse = True)\n",
    "\n",
    "SortScore(scores)\n",
    "    "
   ]
  },
  {
   "cell_type": "code",
   "execution_count": null,
   "metadata": {},
   "outputs": [],
   "source": [
    "from collections import defaultdict\n",
    "\n",
    "nums = [1, 3, 2, 3, 5, 1, 1, 3, 4]\n",
    "\n",
    "def MostFreqNum(nums):\n",
    "    FreqTable = defaultdict(int)\n",
    "    for i in nums:\n",
    "        FreqTable[i] += 1\n",
    "    \n",
    "    return max(FreqTable.items(), key = lambda item: (item[1], -item[0]))\n",
    "\n",
    "MostFreqNum(nums)"
   ]
  },
  {
   "cell_type": "code",
   "execution_count": null,
   "metadata": {},
   "outputs": [],
   "source": [
    "h = {}\n",
    "h['word'] = 'garfield'\n",
    "h['count'] = 42\n",
    "s = 'I want %(count)d copies of %(word)s' % h  # %d for int, %s for string\n",
    "# 'I want 42 copies of garfield'\n",
    "# You can also use str.format().\n",
    "s = 'I want {count: d} copies of {word}'.format(**h)"
   ]
  },
  {
   "cell_type": "code",
   "execution_count": null,
   "metadata": {},
   "outputs": [],
   "source": [
    "var = 6\n",
    "del var  # var no more!\n",
    "list = ['a', 'b', 'c', 'd']\n",
    "del list[0]     ## Delete first element\n",
    "del list[-2:]   ## Delete last two elements\n",
    "print(list)      ## ['b']\n",
    "dict = {'a':1, 'b':2, 'c':3}\n",
    "del dict['b']   ## Delete 'b' entry\n",
    "print(dict)      ## {'a':1, 'c':3}"
   ]
  },
  {
   "cell_type": "markdown",
   "metadata": {},
   "source": [
    "## h. Array vs. Linked List vs. List\n",
    "Array: Can do  \n",
    "(1) Stack\n",
    "(2) Queue\n",
    "(3) Hash Map\n",
    "(4) Tree\n",
    "(5) Heap\n",
    "(6) Graph\n",
    "(7) Matrix\n",
    "(8) Tensor\n",
    "\n",
    "Pros: Random Access Possible  \n",
    "Cons: (1) Bad at Insert and Delete (2) Fix length  \n"
   ]
  },
  {
   "cell_type": "markdown",
   "metadata": {},
   "source": [
    "LL: Can do  \n",
    "(1) Stack\n",
    "(2) Queue\n",
    "(3) Hash Map\n",
    "(4) Tree\n",
    "(5) Heap\n",
    "(6) Graph\n",
    "\n",
    "Pros: Good at Insert and Delete  \n",
    "Cons: Searching slow and cost lots space  "
   ]
  },
  {
   "cell_type": "code",
   "execution_count": null,
   "metadata": {},
   "outputs": [],
   "source": [
    "class ListNode:\n",
    "    def __init__(self, x):\n",
    "        self.val = x\n",
    "        self.next = None    # None (py) == nullptr (c++)\n",
    "\n",
    "n0 = ListNode(1)\n",
    "n1 = ListNode(5)\n",
    "n2 = ListNode(3)\n",
    "n0.next = n1\n",
    "n1.next = n2"
   ]
  },
  {
   "cell_type": "markdown",
   "metadata": {},
   "source": [
    "List: Dynamic Array (Dynamic length)  \n"
   ]
  },
  {
   "cell_type": "code",
   "execution_count": null,
   "metadata": {},
   "outputs": [],
   "source": [
    "list1 = [1, 2, 3, 5, 4]\n",
    "list1.clear()\n",
    "list1.append(2)\n",
    "list1.append(3)\n",
    "list1.insert(1, 6)   # insert 6 at index 1\n",
    "list1.pop(2)         # delete index 2 element\n",
    "\n",
    "list2 = [2, 4, 6, 8]\n",
    "list1 += list2\n",
    "list1.sort()\n"
   ]
  },
  {
   "cell_type": "markdown",
   "metadata": {},
   "source": [
    "## i. Iteration and Next in for():"
   ]
  },
  {
   "cell_type": "code",
   "execution_count": null,
   "metadata": {},
   "outputs": [],
   "source": [
    "num = [1, 2, 3, 4,5]\n",
    "\n",
    "for i in num:       # here for call __iter__ and __next__ of num, which is pre-defined in num -> System.object\n",
    "    print(i)"
   ]
  },
  {
   "cell_type": "code",
   "execution_count": null,
   "metadata": {},
   "outputs": [],
   "source": [
    "class Countdown:\n",
    "    def __init__(self, start):\n",
    "        self.current = start\n",
    "\n",
    "    def __iter__(self):\n",
    "        return self  # The object itself is the iterator\n",
    "\n",
    "    def __next__(self):\n",
    "        if self.current <= 0:\n",
    "            raise StopIteration\n",
    "        else:\n",
    "            value = self.current\n",
    "            self.current -= 1\n",
    "            return value\n",
    "\n",
    "qqCount = Countdown(6)\n",
    "\n",
    "for i in qqCount:\n",
    "    print(i)"
   ]
  },
  {
   "cell_type": "markdown",
   "metadata": {},
   "source": [
    "## j. File read"
   ]
  },
  {
   "cell_type": "code",
   "execution_count": null,
   "metadata": {},
   "outputs": [],
   "source": [
    "f = open('foo.txt', 'rt', encoding='utf-8')     # r: read, t: text\n",
    "for line in f:                                  \n",
    "    print(line, end='')                         # line: str end with '\\n'. Since line already include '\\n', use end = '' to\n",
    "f.close()                                       # disable the newline to prevent from double newline\n"
   ]
  },
  {
   "cell_type": "code",
   "execution_count": null,
   "metadata": {},
   "outputs": [],
   "source": [
    "# Use this one for more safety\n",
    "with open('foo.txt', 'rt', encoding='utf-8') as f:\n",
    "    for line in f:\n",
    "        print(line, end='')\n",
    "# File is automatically closed here\n"
   ]
  },
  {
   "cell_type": "markdown",
   "metadata": {},
   "source": [
    "## k. Type convert"
   ]
  },
  {
   "cell_type": "code",
   "execution_count": 2,
   "metadata": {},
   "outputs": [
    {
     "data": {
      "text/plain": [
       "'d'"
      ]
     },
     "execution_count": 2,
     "metadata": {},
     "output_type": "execute_result"
    }
   ],
   "source": [
    "ord('a')\n",
    "chr(3 + ord('a'))"
   ]
  },
  {
   "cell_type": "markdown",
   "metadata": {},
   "source": [
    "## x. Some Mistake"
   ]
  },
  {
   "cell_type": "code",
   "execution_count": null,
   "metadata": {},
   "outputs": [],
   "source": [
    "def foo(bar=[]):\n",
    "    bar.append(\"baz\")\n",
    "    return bar\n"
   ]
  },
  {
   "cell_type": "code",
   "execution_count": null,
   "metadata": {},
   "outputs": [],
   "source": [
    "foo()"
   ]
  },
  {
   "cell_type": "code",
   "execution_count": null,
   "metadata": {},
   "outputs": [],
   "source": [
    "def foo(bar=None):\n",
    "    if bar is None:\n",
    "        bar = []\n",
    "    bar.append(\"baz\")\n",
    "    return bar"
   ]
  },
  {
   "cell_type": "code",
   "execution_count": null,
   "metadata": {},
   "outputs": [],
   "source": [
    "foo()"
   ]
  },
  {
   "cell_type": "markdown",
   "metadata": {},
   "source": [
    "Reason: [] is mutable, so can be stored everywhen return, and reuse.  \n",
    "None is immutable, so bar will be erased everywhen return."
   ]
  },
  {
   "cell_type": "markdown",
   "metadata": {},
   "source": [
    "# 2. Data Structure\n"
   ]
  },
  {
   "cell_type": "markdown",
   "metadata": {},
   "source": [
    "## a. Stack"
   ]
  },
  {
   "cell_type": "code",
   "execution_count": null,
   "metadata": {},
   "outputs": [],
   "source": [
    "# Use List as Stack\n",
    "stack = []\n",
    "\n",
    "stack.append(5)\n",
    "stack.append(6)\n",
    "stack.append(7)\n",
    "stack.append(8)\n",
    "\n",
    "top = stack[-1]\n",
    "top = stack.pop()\n",
    "\n",
    "print(top)          # 8\n",
    "print(stack[-1])    # 7\n",
    "\n",
    "class ArrayStack:\n",
    "    '''\n",
    "        size()\n",
    "        is_empty()\n",
    "        push(item)\n",
    "        pop()\n",
    "        top()\n",
    "        to_list()\n",
    "    '''\n",
    "    def __init__(self):\n",
    "        self.__stack = []\n",
    "\n",
    "    def size(self):\n",
    "        return len(self.__stack)\n",
    "    \n",
    "    def is_empty(self):\n",
    "        return self.__stack == []\n",
    "    \n",
    "    def push(self, item):\n",
    "        self.__stack.append(item)\n",
    "\n",
    "    def pop(self):\n",
    "        assert not self.is_empty(), \"Stack is Empty\"\n",
    "        return self.__stack.pop()\n",
    "    \n",
    "    def top(self):\n",
    "        assert not self.is_empty(), \"Stack is Empty\"\n",
    "        return self.__stack[-1]\n",
    "    \n",
    "    def to_list(self):\n",
    "        return self.__stack\n",
    "    \n",
    "Stack1 = ArrayStack()\n",
    "# Stack1.pop()\n",
    "Stack1.push(5)\n",
    "arr = Stack1.to_list()\n",
    "print(arr)"
   ]
  },
  {
   "cell_type": "code",
   "execution_count": null,
   "metadata": {},
   "outputs": [],
   "source": [
    "# Use Linked List as Stack\n",
    "class LinkedListStack:\n",
    "    def __init__(self):\n",
    "        self.__top = None\n",
    "        self.__size = 0\n",
    "    \n",
    "    def size(self):\n",
    "        return self.__size\n",
    "    \n",
    "    def is_empty(self):\n",
    "        return not self.__top\n",
    "    \n",
    "    def push(self, item):\n",
    "        node = ListNode(item)\n",
    "        node.next = self.__top  # Tail build\n",
    "        self.__top = node\n",
    "        self.__size += 1\n",
    "        # None\n",
    "        # ^\n",
    "        # |\n",
    "        # top\n",
    "\n",
    "        # node1 -> None\n",
    "        # ^\n",
    "        # |\n",
    "        # top\n",
    "\n",
    "        # node2 -> node1 -> None\n",
    "        # ^\n",
    "        # |\n",
    "        # top\n",
    "    \n",
    "    def top(self):\n",
    "        if not self.__top: return None\n",
    "        return self.__top.val\n",
    "\n",
    "    def pop(self):\n",
    "        num = self.top()\n",
    "        assert not self.is_empty(), \"Stack is Empty\"\n",
    "        self.__top = self.__top.next\n",
    "        self.__size -= 1\n",
    "        return num\n",
    "    \n",
    "    def to_list(self):\n",
    "        arr = []\n",
    "        node = self.__top\n",
    "        while node:\n",
    "            arr.append(node.val)\n",
    "            node = node.next\n",
    "        arr.reverse()\n",
    "        return arr\n",
    "    \n",
    "Stack2 = LinkedListStack()\n",
    "# Stack1.pop()\n",
    "Stack2.push(5)\n",
    "Stack2.push(6)\n",
    "Stack2.push(7)\n",
    "Stack2.pop()\n",
    "arr = Stack2.to_list()\n",
    "print(arr)"
   ]
  },
  {
   "cell_type": "markdown",
   "metadata": {},
   "source": [
    "## b. Queue"
   ]
  },
  {
   "cell_type": "code",
   "execution_count": null,
   "metadata": {},
   "outputs": [],
   "source": [
    "# use collections.deque as queue\n",
    "from collections import deque\n",
    "que = deque()\n",
    "\n",
    "que.append(1)\n",
    "que.append(2)\n",
    "que.append(3)\n",
    "\n",
    "front = que[0]\n",
    "print(front)\n",
    "\n",
    "pop = que.popleft()\n",
    "print(pop)\n",
    "\n",
    "size = len(que)\n",
    "print(size)"
   ]
  },
  {
   "cell_type": "markdown",
   "metadata": {},
   "source": [
    "## c. Deque - Can replace Queue and Stack!!"
   ]
  },
  {
   "cell_type": "code",
   "execution_count": null,
   "metadata": {},
   "outputs": [],
   "source": [
    "from collections import deque\n",
    "list = deque()\n",
    "\n",
    "list.append(1)\n",
    "list.append(2)\n",
    "list.append(3)\n",
    "list.append(4)\n",
    "\n",
    "# front and rear\n",
    "stack_top = list[-1]\n",
    "queue_top = list[0]\n",
    "print(stack_top)\n",
    "print(queue_top)\n",
    "\n",
    "size = len(list)\n",
    "print(size)\n",
    "\n",
    "# pop of stack and queue\n",
    "stack_top = list.pop()\n",
    "queue_top = list.popleft()\n",
    "print(stack_top)\n",
    "print(queue_top)\n",
    "\n",
    "size = len(list)\n",
    "print(size)\n",
    "\n",
    "# push of stack and queue\n",
    "list.appendleft(0)\n",
    "\n",
    "print(list)\n"
   ]
  },
  {
   "cell_type": "markdown",
   "metadata": {},
   "source": [
    "## d. Tree"
   ]
  },
  {
   "cell_type": "code",
   "execution_count": null,
   "metadata": {
    "jupyter": {
     "is_executing": true
    }
   },
   "outputs": [],
   "source": [
    "# Binary Tree node\n",
    "class Node:\n",
    "    def __init__(self, value, left = None, right = None):\n",
    "        self.value = value\n",
    "        self.left = left   # left child\n",
    "        self.right = right  # right child"
   ]
  },
  {
   "cell_type": "code",
   "execution_count": 2,
   "metadata": {},
   "outputs": [
    {
     "name": "stdout",
     "output_type": "stream",
     "text": [
      "10\n",
      "5\n",
      "20\n"
     ]
    }
   ],
   "source": [
    "# Example usage\n",
    "root = Node(10)\n",
    "root.left = Node(5)\n",
    "root.right = Node(20)\n",
    "\n",
    "print(root.value)        # 10\n",
    "print(root.left.value)   # 5\n",
    "print(root.right.value)  # 20"
   ]
  },
  {
   "cell_type": "markdown",
   "metadata": {},
   "source": [
    "## e. Priority Queue\n",
    "heapq: from small to large. The smallest has highest priority -> Only can uni-thread"
   ]
  },
  {
   "cell_type": "code",
   "execution_count": null,
   "metadata": {},
   "outputs": [],
   "source": [
    "import heapq\n",
    "\n",
    "pq = []\n",
    "\n",
    "heapq.heappush(pq, 3)   \n",
    "heapq.heappush(pq, 6)\n",
    "heapq.heappop(pq)"
   ]
  },
  {
   "cell_type": "markdown",
   "metadata": {},
   "source": [
    "Customized priority with tuple"
   ]
  },
  {
   "cell_type": "code",
   "execution_count": null,
   "metadata": {},
   "outputs": [],
   "source": [
    "import heapq\n",
    "\n",
    "pq = []\n",
    "\n",
    "heapq.heappush(pq, (2, \"task2\"))  # 優先級為 2\n",
    "heapq.heappush(pq, (1, \"task1\"))  # 優先級為 1\n",
    "heapq.heappush(pq, (3, \"task3\"))  # 優先級為 3\n",
    "\n",
    "print(heapq.heappop(pq))  # 輸出：(1, 'task1')\n",
    "print(heapq.heappop(pq))  # 輸出：(2, 'task2')\n",
    "print(heapq.heappop(pq))  # 輸出：(3, 'task3')\n"
   ]
  },
  {
   "cell_type": "markdown",
   "metadata": {},
   "source": [
    "queue.PriorityQueue -> can multi-thread"
   ]
  },
  {
   "cell_type": "code",
   "execution_count": null,
   "metadata": {},
   "outputs": [],
   "source": [
    "import heapq\n",
    "\n",
    "class Solution(object):\n",
    "    def halveArray(self, nums):\n",
    "        \"\"\"\n",
    "        :type nums: List[int]\n",
    "        :rtype: int\n",
    "        \"\"\"\n",
    "        target = sum(nums) / 2.0\n",
    "        ans = 0\n",
    "\n",
    "        # # Version 1: every push\n",
    "        # pq = []\n",
    "        # for i in nums:\n",
    "        #     heapq.heappush(pq, -i)\n",
    "        # while (target > 0):\n",
    "        #     i = heapq.heappop(pq)\n",
    "        #     target += i / 2.0\n",
    "        #     heapq.heappush(pq, i / 2.0)\n",
    "        #     ans += 1\n",
    "\n",
    "        # Version 2: heapify\n",
    "        heap = [-x for x in nums]\n",
    "        heapq.heapify(heap)\n",
    "        while (target > 0):\n",
    "            i = heapq.heappop(heap)\n",
    "            target += i / 2.0\n",
    "            heapq.heappush(heap, i / 2.0)\n",
    "            ans += 1\n",
    "    \n",
    "        # Version 3: float first\n",
    "        heap = [-float(x) for x in nums]\n",
    "        heapq.heapify(heap)\n",
    "        while (target > 0):\n",
    "            i = heapq.heappop(heap) / 2\n",
    "            target += i\n",
    "            heapq.heappush(heap, i)\n",
    "            ans += 1\n",
    "\n",
    "\n",
    "        return ans\n",
    "\n"
   ]
  },
  {
   "cell_type": "markdown",
   "metadata": {},
   "source": [
    "# 3. Numpy"
   ]
  },
  {
   "cell_type": "code",
   "execution_count": null,
   "metadata": {},
   "outputs": [
    {
     "name": "stdout",
     "output_type": "stream",
     "text": [
      "Collecting numpy\n",
      "  Using cached numpy-2.3.2-cp311-cp311-win_amd64.whl.metadata (60 kB)\n",
      "Using cached numpy-2.3.2-cp311-cp311-win_amd64.whl (13.1 MB)\n",
      "Installing collected packages: numpy\n",
      "Successfully installed numpy-2.3.2\n"
     ]
    }
   ],
   "source": [
    "!pip install numpy"
   ]
  },
  {
   "cell_type": "code",
   "execution_count": null,
   "metadata": {},
   "outputs": [
    {
     "data": {
      "text/plain": [
       "['False_',\n",
       " 'ScalarType',\n",
       " 'True_',\n",
       " '_CopyMode',\n",
       " '_NoValue',\n",
       " '__NUMPY_SETUP__',\n",
       " '__all__',\n",
       " '__array_api_version__',\n",
       " '__array_namespace_info__',\n",
       " '__builtins__',\n",
       " '__cached__',\n",
       " '__config__',\n",
       " '__dir__',\n",
       " '__doc__',\n",
       " '__expired_attributes__',\n",
       " '__file__',\n",
       " '__former_attrs__',\n",
       " '__future_scalars__',\n",
       " '__getattr__',\n",
       " '__loader__',\n",
       " '__name__',\n",
       " '__numpy_submodules__',\n",
       " '__package__',\n",
       " '__path__',\n",
       " '__spec__',\n",
       " '__version__',\n",
       " '_array_api_info',\n",
       " '_core',\n",
       " '_distributor_init',\n",
       " '_expired_attrs_2_0',\n",
       " '_globals',\n",
       " '_int_extended_msg',\n",
       " '_mat',\n",
       " '_msg',\n",
       " '_pyinstaller_hooks_dir',\n",
       " '_pytesttester',\n",
       " '_specific_msg',\n",
       " '_type_info',\n",
       " '_typing',\n",
       " '_utils',\n",
       " 'abs',\n",
       " 'absolute',\n",
       " 'acos',\n",
       " 'acosh',\n",
       " 'add',\n",
       " 'all',\n",
       " 'allclose',\n",
       " 'amax',\n",
       " 'amin',\n",
       " 'angle',\n",
       " 'any',\n",
       " 'append',\n",
       " 'apply_along_axis',\n",
       " 'apply_over_axes',\n",
       " 'arange',\n",
       " 'arccos',\n",
       " 'arccosh',\n",
       " 'arcsin',\n",
       " 'arcsinh',\n",
       " 'arctan',\n",
       " 'arctan2',\n",
       " 'arctanh',\n",
       " 'argmax',\n",
       " 'argmin',\n",
       " 'argpartition',\n",
       " 'argsort',\n",
       " 'argwhere',\n",
       " 'around',\n",
       " 'array',\n",
       " 'array2string',\n",
       " 'array_equal',\n",
       " 'array_equiv',\n",
       " 'array_repr',\n",
       " 'array_split',\n",
       " 'array_str',\n",
       " 'asanyarray',\n",
       " 'asarray',\n",
       " 'asarray_chkfinite',\n",
       " 'ascontiguousarray',\n",
       " 'asfortranarray',\n",
       " 'asin',\n",
       " 'asinh',\n",
       " 'asmatrix',\n",
       " 'astype',\n",
       " 'atan',\n",
       " 'atan2',\n",
       " 'atanh',\n",
       " 'atleast_1d',\n",
       " 'atleast_2d',\n",
       " 'atleast_3d',\n",
       " 'average',\n",
       " 'bartlett',\n",
       " 'base_repr',\n",
       " 'binary_repr',\n",
       " 'bincount',\n",
       " 'bitwise_and',\n",
       " 'bitwise_count',\n",
       " 'bitwise_invert',\n",
       " 'bitwise_left_shift',\n",
       " 'bitwise_not',\n",
       " 'bitwise_or',\n",
       " 'bitwise_right_shift',\n",
       " 'bitwise_xor',\n",
       " 'blackman',\n",
       " 'block',\n",
       " 'bmat',\n",
       " 'bool',\n",
       " 'bool_',\n",
       " 'broadcast',\n",
       " 'broadcast_arrays',\n",
       " 'broadcast_shapes',\n",
       " 'broadcast_to',\n",
       " 'busday_count',\n",
       " 'busday_offset',\n",
       " 'busdaycalendar',\n",
       " 'byte',\n",
       " 'bytes_',\n",
       " 'c_',\n",
       " 'can_cast',\n",
       " 'cbrt',\n",
       " 'cdouble',\n",
       " 'ceil',\n",
       " 'char',\n",
       " 'character',\n",
       " 'choose',\n",
       " 'clip',\n",
       " 'clongdouble',\n",
       " 'column_stack',\n",
       " 'common_type',\n",
       " 'complex128',\n",
       " 'complex64',\n",
       " 'complexfloating',\n",
       " 'compress',\n",
       " 'concat',\n",
       " 'concatenate',\n",
       " 'conj',\n",
       " 'conjugate',\n",
       " 'convolve',\n",
       " 'copy',\n",
       " 'copysign',\n",
       " 'copyto',\n",
       " 'core',\n",
       " 'corrcoef',\n",
       " 'correlate',\n",
       " 'cos',\n",
       " 'cosh',\n",
       " 'count_nonzero',\n",
       " 'cov',\n",
       " 'cross',\n",
       " 'csingle',\n",
       " 'ctypeslib',\n",
       " 'cumprod',\n",
       " 'cumsum',\n",
       " 'cumulative_prod',\n",
       " 'cumulative_sum',\n",
       " 'datetime64',\n",
       " 'datetime_as_string',\n",
       " 'datetime_data',\n",
       " 'deg2rad',\n",
       " 'degrees',\n",
       " 'delete',\n",
       " 'diag',\n",
       " 'diag_indices',\n",
       " 'diag_indices_from',\n",
       " 'diagflat',\n",
       " 'diagonal',\n",
       " 'diff',\n",
       " 'digitize',\n",
       " 'divide',\n",
       " 'divmod',\n",
       " 'dot',\n",
       " 'double',\n",
       " 'dsplit',\n",
       " 'dstack',\n",
       " 'dtype',\n",
       " 'dtypes',\n",
       " 'e',\n",
       " 'ediff1d',\n",
       " 'einsum',\n",
       " 'einsum_path',\n",
       " 'emath',\n",
       " 'empty',\n",
       " 'empty_like',\n",
       " 'equal',\n",
       " 'errstate',\n",
       " 'euler_gamma',\n",
       " 'exceptions',\n",
       " 'exp',\n",
       " 'exp2',\n",
       " 'expand_dims',\n",
       " 'expm1',\n",
       " 'extract',\n",
       " 'eye',\n",
       " 'f2py',\n",
       " 'fabs',\n",
       " 'fft',\n",
       " 'fill_diagonal',\n",
       " 'finfo',\n",
       " 'fix',\n",
       " 'flatiter',\n",
       " 'flatnonzero',\n",
       " 'flexible',\n",
       " 'flip',\n",
       " 'fliplr',\n",
       " 'flipud',\n",
       " 'float16',\n",
       " 'float32',\n",
       " 'float64',\n",
       " 'float_power',\n",
       " 'floating',\n",
       " 'floor',\n",
       " 'floor_divide',\n",
       " 'fmax',\n",
       " 'fmin',\n",
       " 'fmod',\n",
       " 'format_float_positional',\n",
       " 'format_float_scientific',\n",
       " 'frexp',\n",
       " 'from_dlpack',\n",
       " 'frombuffer',\n",
       " 'fromfile',\n",
       " 'fromfunction',\n",
       " 'fromiter',\n",
       " 'frompyfunc',\n",
       " 'fromregex',\n",
       " 'fromstring',\n",
       " 'full',\n",
       " 'full_like',\n",
       " 'gcd',\n",
       " 'generic',\n",
       " 'genfromtxt',\n",
       " 'geomspace',\n",
       " 'get_include',\n",
       " 'get_printoptions',\n",
       " 'getbufsize',\n",
       " 'geterr',\n",
       " 'geterrcall',\n",
       " 'gradient',\n",
       " 'greater',\n",
       " 'greater_equal',\n",
       " 'half',\n",
       " 'hamming',\n",
       " 'hanning',\n",
       " 'heaviside',\n",
       " 'histogram',\n",
       " 'histogram2d',\n",
       " 'histogram_bin_edges',\n",
       " 'histogramdd',\n",
       " 'hsplit',\n",
       " 'hstack',\n",
       " 'hypot',\n",
       " 'i0',\n",
       " 'identity',\n",
       " 'iinfo',\n",
       " 'imag',\n",
       " 'in1d',\n",
       " 'index_exp',\n",
       " 'indices',\n",
       " 'inexact',\n",
       " 'inf',\n",
       " 'info',\n",
       " 'inner',\n",
       " 'insert',\n",
       " 'int16',\n",
       " 'int32',\n",
       " 'int64',\n",
       " 'int8',\n",
       " 'int_',\n",
       " 'intc',\n",
       " 'integer',\n",
       " 'interp',\n",
       " 'intersect1d',\n",
       " 'intp',\n",
       " 'invert',\n",
       " 'is_busday',\n",
       " 'isclose',\n",
       " 'iscomplex',\n",
       " 'iscomplexobj',\n",
       " 'isdtype',\n",
       " 'isfinite',\n",
       " 'isfortran',\n",
       " 'isin',\n",
       " 'isinf',\n",
       " 'isnan',\n",
       " 'isnat',\n",
       " 'isneginf',\n",
       " 'isposinf',\n",
       " 'isreal',\n",
       " 'isrealobj',\n",
       " 'isscalar',\n",
       " 'issubdtype',\n",
       " 'iterable',\n",
       " 'ix_',\n",
       " 'kaiser',\n",
       " 'kron',\n",
       " 'lcm',\n",
       " 'ldexp',\n",
       " 'left_shift',\n",
       " 'less',\n",
       " 'less_equal',\n",
       " 'lexsort',\n",
       " 'lib',\n",
       " 'linalg',\n",
       " 'linspace',\n",
       " 'little_endian',\n",
       " 'load',\n",
       " 'loadtxt',\n",
       " 'log',\n",
       " 'log10',\n",
       " 'log1p',\n",
       " 'log2',\n",
       " 'logaddexp',\n",
       " 'logaddexp2',\n",
       " 'logical_and',\n",
       " 'logical_not',\n",
       " 'logical_or',\n",
       " 'logical_xor',\n",
       " 'logspace',\n",
       " 'long',\n",
       " 'longdouble',\n",
       " 'longlong',\n",
       " 'ma',\n",
       " 'mask_indices',\n",
       " 'matmul',\n",
       " 'matrix',\n",
       " 'matrix_transpose',\n",
       " 'matvec',\n",
       " 'max',\n",
       " 'maximum',\n",
       " 'may_share_memory',\n",
       " 'mean',\n",
       " 'median',\n",
       " 'memmap',\n",
       " 'meshgrid',\n",
       " 'mgrid',\n",
       " 'min',\n",
       " 'min_scalar_type',\n",
       " 'minimum',\n",
       " 'mintypecode',\n",
       " 'mod',\n",
       " 'modf',\n",
       " 'moveaxis',\n",
       " 'multiply',\n",
       " 'nan',\n",
       " 'nan_to_num',\n",
       " 'nanargmax',\n",
       " 'nanargmin',\n",
       " 'nancumprod',\n",
       " 'nancumsum',\n",
       " 'nanmax',\n",
       " 'nanmean',\n",
       " 'nanmedian',\n",
       " 'nanmin',\n",
       " 'nanpercentile',\n",
       " 'nanprod',\n",
       " 'nanquantile',\n",
       " 'nanstd',\n",
       " 'nansum',\n",
       " 'nanvar',\n",
       " 'ndarray',\n",
       " 'ndenumerate',\n",
       " 'ndim',\n",
       " 'ndindex',\n",
       " 'nditer',\n",
       " 'negative',\n",
       " 'nested_iters',\n",
       " 'newaxis',\n",
       " 'nextafter',\n",
       " 'nonzero',\n",
       " 'not_equal',\n",
       " 'number',\n",
       " 'object_',\n",
       " 'ogrid',\n",
       " 'ones',\n",
       " 'ones_like',\n",
       " 'outer',\n",
       " 'packbits',\n",
       " 'pad',\n",
       " 'partition',\n",
       " 'percentile',\n",
       " 'permute_dims',\n",
       " 'pi',\n",
       " 'piecewise',\n",
       " 'place',\n",
       " 'poly',\n",
       " 'poly1d',\n",
       " 'polyadd',\n",
       " 'polyder',\n",
       " 'polydiv',\n",
       " 'polyfit',\n",
       " 'polyint',\n",
       " 'polymul',\n",
       " 'polynomial',\n",
       " 'polysub',\n",
       " 'polyval',\n",
       " 'positive',\n",
       " 'pow',\n",
       " 'power',\n",
       " 'printoptions',\n",
       " 'prod',\n",
       " 'promote_types',\n",
       " 'ptp',\n",
       " 'put',\n",
       " 'put_along_axis',\n",
       " 'putmask',\n",
       " 'quantile',\n",
       " 'r_',\n",
       " 'rad2deg',\n",
       " 'radians',\n",
       " 'random',\n",
       " 'ravel',\n",
       " 'ravel_multi_index',\n",
       " 'real',\n",
       " 'real_if_close',\n",
       " 'rec',\n",
       " 'recarray',\n",
       " 'reciprocal',\n",
       " 'record',\n",
       " 'remainder',\n",
       " 'repeat',\n",
       " 'require',\n",
       " 'reshape',\n",
       " 'resize',\n",
       " 'result_type',\n",
       " 'right_shift',\n",
       " 'rint',\n",
       " 'roll',\n",
       " 'rollaxis',\n",
       " 'roots',\n",
       " 'rot90',\n",
       " 'round',\n",
       " 'row_stack',\n",
       " 's_',\n",
       " 'save',\n",
       " 'savetxt',\n",
       " 'savez',\n",
       " 'savez_compressed',\n",
       " 'sctypeDict',\n",
       " 'searchsorted',\n",
       " 'select',\n",
       " 'set_printoptions',\n",
       " 'setbufsize',\n",
       " 'setdiff1d',\n",
       " 'seterr',\n",
       " 'seterrcall',\n",
       " 'setxor1d',\n",
       " 'shape',\n",
       " 'shares_memory',\n",
       " 'short',\n",
       " 'show_config',\n",
       " 'show_runtime',\n",
       " 'sign',\n",
       " 'signbit',\n",
       " 'signedinteger',\n",
       " 'sin',\n",
       " 'sinc',\n",
       " 'single',\n",
       " 'sinh',\n",
       " 'size',\n",
       " 'sort',\n",
       " 'sort_complex',\n",
       " 'spacing',\n",
       " 'split',\n",
       " 'sqrt',\n",
       " 'square',\n",
       " 'squeeze',\n",
       " 'stack',\n",
       " 'std',\n",
       " 'str_',\n",
       " 'strings',\n",
       " 'subtract',\n",
       " 'sum',\n",
       " 'swapaxes',\n",
       " 'take',\n",
       " 'take_along_axis',\n",
       " 'tan',\n",
       " 'tanh',\n",
       " 'tensordot',\n",
       " 'test',\n",
       " 'testing',\n",
       " 'tile',\n",
       " 'timedelta64',\n",
       " 'trace',\n",
       " 'transpose',\n",
       " 'trapezoid',\n",
       " 'trapz',\n",
       " 'tri',\n",
       " 'tril',\n",
       " 'tril_indices',\n",
       " 'tril_indices_from',\n",
       " 'trim_zeros',\n",
       " 'triu',\n",
       " 'triu_indices',\n",
       " 'triu_indices_from',\n",
       " 'true_divide',\n",
       " 'trunc',\n",
       " 'typecodes',\n",
       " 'typename',\n",
       " 'typing',\n",
       " 'ubyte',\n",
       " 'ufunc',\n",
       " 'uint',\n",
       " 'uint16',\n",
       " 'uint32',\n",
       " 'uint64',\n",
       " 'uint8',\n",
       " 'uintc',\n",
       " 'uintp',\n",
       " 'ulong',\n",
       " 'ulonglong',\n",
       " 'union1d',\n",
       " 'unique',\n",
       " 'unique_all',\n",
       " 'unique_counts',\n",
       " 'unique_inverse',\n",
       " 'unique_values',\n",
       " 'unpackbits',\n",
       " 'unravel_index',\n",
       " 'unsignedinteger',\n",
       " 'unstack',\n",
       " 'unwrap',\n",
       " 'ushort',\n",
       " 'vander',\n",
       " 'var',\n",
       " 'vdot',\n",
       " 'vecdot',\n",
       " 'vecmat',\n",
       " 'vectorize',\n",
       " 'void',\n",
       " 'vsplit',\n",
       " 'vstack',\n",
       " 'where',\n",
       " 'zeros',\n",
       " 'zeros_like']"
      ]
     },
     "execution_count": 3,
     "metadata": {},
     "output_type": "execute_result"
    }
   ],
   "source": [
    "import numpy as np\n",
    "\n",
    "dir(np)"
   ]
  },
  {
   "cell_type": "markdown",
   "metadata": {},
   "source": [
    "# 4. Debug\n",
    "## a. assert"
   ]
  },
  {
   "cell_type": "code",
   "execution_count": null,
   "metadata": {},
   "outputs": [],
   "source": [
    "x = 5\n",
    "assert x == 5  # Passes, no error\n",
    "assert x == 10, \"x doesn't equal to 10\"  # Fails, raises AssertionError\n"
   ]
  },
  {
   "cell_type": "markdown",
   "metadata": {},
   "source": [
    "## b. error"
   ]
  },
  {
   "cell_type": "markdown",
   "metadata": {
    "vscode": {
     "languageId": "latex"
    }
   },
   "source": [
    "(1) ValueError  \n",
    "(2) TypeError  \n",
    "(3) IndexError  \n",
    "(4) KeyError  \n",
    "(5) ZeroDivisionError  \n",
    "(6) FileNotFoundError  "
   ]
  },
  {
   "cell_type": "code",
   "execution_count": 15,
   "metadata": {},
   "outputs": [
    {
     "name": "stdout",
     "output_type": "stream",
     "text": [
      "<class 'int'>\n"
     ]
    }
   ],
   "source": [
    "tup = (1, 2, 4, 8)\n",
    "tup = tup[0]\n",
    "print(type(tup))"
   ]
  },
  {
   "cell_type": "markdown",
   "metadata": {},
   "source": [
    "# 5. Unittest"
   ]
  },
  {
   "cell_type": "code",
   "execution_count": 3,
   "metadata": {},
   "outputs": [],
   "source": [
    "# math_utils.py\n",
    "def add(a, b):\n",
    "    return a + b\n",
    "\n",
    "def divide(a, b):\n",
    "    return a / b"
   ]
  },
  {
   "cell_type": "code",
   "execution_count": 5,
   "metadata": {},
   "outputs": [
    {
     "name": "stderr",
     "output_type": "stream",
     "text": [
      "test_add (__main__.TestMathUtils.test_add) ... ok\n",
      "test_divide (__main__.TestMathUtils.test_divide) ... ok\n",
      "test_divide_by_zero (__main__.TestMathUtils.test_divide_by_zero) ... ok\n",
      "\n",
      "----------------------------------------------------------------------\n",
      "Ran 3 tests in 0.002s\n",
      "\n",
      "OK\n"
     ]
    }
   ],
   "source": [
    "# test_math_utils.py\n",
    "import unittest\n",
    "\n",
    "class TestMathUtils(unittest.TestCase):\n",
    "    def test_add(self):\n",
    "        self.assertEqual(add(2, 3), 5)  # 2+3 應該等於 5\n",
    "        self.assertNotEqual(add(1, 1), 3)  # 不應該等於 3\n",
    "\n",
    "    def test_divide(self):\n",
    "        self.assertEqual(divide(10, 2), 5)\n",
    "        self.assertAlmostEqual(divide(5, 2), 2.5)\n",
    "\n",
    "    def test_divide_by_zero(self):\n",
    "        with self.assertRaises(ZeroDivisionError):  # 測試會拋出錯誤\n",
    "            divide(5, 0)\n",
    "\n",
    "if __name__ == '__main__':\n",
    "    unittest.main(argv=[''], verbosity=2, exit=False)\n"
   ]
  },
  {
   "cell_type": "markdown",
   "metadata": {},
   "source": [
    "# A. Problem Set\n",
    "## Easy"
   ]
  },
  {
   "cell_type": "markdown",
   "metadata": {},
   "source": []
  },
  {
   "cell_type": "markdown",
   "metadata": {},
   "source": [
    "### 326"
   ]
  },
  {
   "cell_type": "code",
   "execution_count": null,
   "metadata": {},
   "outputs": [
    {
     "name": "stdout",
     "output_type": "stream",
     "text": [
      "19.557744707608467\n"
     ]
    }
   ],
   "source": [
    "from math import log\n",
    "\n",
    "class Solution(object):\n",
    "    def isPowerOfThree(self, n):\n",
    "        \"\"\"\n",
    "        :type n: int\n",
    "        :rtype: bool\n",
    "        \"\"\"\n",
    "        return n > 0 and 3**19 % n == 0\n"
   ]
  },
  {
   "cell_type": "markdown",
   "metadata": {},
   "source": [
    "## Medium\n"
   ]
  },
  {
   "cell_type": "markdown",
   "metadata": {},
   "source": [
    "#### 31 (?)"
   ]
  },
  {
   "cell_type": "code",
   "execution_count": null,
   "metadata": {},
   "outputs": [],
   "source": [
    "class Solution(object):\n",
    "    def nextPermutation(self, nums):\n",
    "        \"\"\"\n",
    "        :type nums: List[int]\n",
    "        :rtype: None Do not return anything, modify nums in-place instead.\n",
    "        \"\"\"\n",
    "        i = len(nums) - 2\n",
    "        while (i >= 0):\n",
    "            if nums[i] < nums[i + 1]:\n",
    "                break\n",
    "            i -= 1\n",
    "\n",
    "        for j in range(len(nums) - 1, i, -1):\n",
    "            if nums[i] < nums[j]:\n",
    "                nums[i], nums[j] = nums[j], nums[i]\n",
    "                nums[i + 1:] = sorted(nums[i + 1:])\n",
    "                return\n"
   ]
  },
  {
   "cell_type": "markdown",
   "metadata": {},
   "source": [
    "#### 394"
   ]
  },
  {
   "cell_type": "code",
   "execution_count": null,
   "metadata": {},
   "outputs": [],
   "source": [
    "from collections import deque\n",
    "\n",
    "class Solution(object):\n",
    "    def decodeString(self, s):\n",
    "        \"\"\"\n",
    "        :type s: str\n",
    "        :rtype: str\n",
    "        \"\"\"\n",
    "        stack = deque()\n",
    "        curNum = 0\n",
    "        curStr = ''\n",
    "        preStr = ''\n",
    "        for c in s:\n",
    "            if c == '[':\n",
    "                stack.append(curStr)\n",
    "                stack.append(curNum)\n",
    "                curNum = 0\n",
    "                curStr = ''\n",
    "            elif c == ']':\n",
    "                curNum = stack.pop()\n",
    "                preStr = stack.pop()\n",
    "                curStr = preStr + curNum * curStr\n",
    "            elif c.isdigit():\n",
    "                curNum = 10 * curNum + ord(c) - ord('0')\n",
    "            else:\n",
    "                curStr += c\n",
    "            \n",
    "        return curStr"
   ]
  },
  {
   "cell_type": "markdown",
   "metadata": {},
   "source": [
    "#### 649"
   ]
  },
  {
   "cell_type": "code",
   "execution_count": null,
   "metadata": {},
   "outputs": [],
   "source": [
    "class Solution(object):\n",
    "    def predictPartyVictory(self, senate):\n",
    "        \"\"\"\n",
    "        :type senate: str\n",
    "        :rtype: str\n",
    "        \"\"\"\n",
    "        "
   ]
  },
  {
   "cell_type": "markdown",
   "metadata": {},
   "source": [
    "#### 790 (?)"
   ]
  },
  {
   "cell_type": "code",
   "execution_count": null,
   "metadata": {},
   "outputs": [],
   "source": [
    "class Solution(object):\n",
    "    def numTilings(self, n):\n",
    "        \"\"\"\n",
    "        :type n: int\n",
    "        :rtype: int\n",
    "        \"\"\"\n",
    "        a = [1, 1, 2]   # an = an-1 + an-2 + bn-2\n",
    "        b = [0, 2, 2]   # bn = 2*an-1 + bn-1\n",
    "        for i in range(2, n - 1):\n",
    "            a.append(a[i] + a[i - 1] + b[i - 1])\n",
    "            b.append(b[i] + 2*a[i])\n",
    "        return a[n]"
   ]
  },
  {
   "cell_type": "code",
   "execution_count": null,
   "metadata": {},
   "outputs": [],
   "source": [
    "class Solution(object):\n",
    "    def maxBalancedShipments(self, weight):\n",
    "        \"\"\"\n",
    "        :type weight: List[int]\n",
    "        :rtype: int\n",
    "        \"\"\"\n",
    "        ans = 0\n",
    "        n = len(weight)\n",
    "        for i in range(n - 1):\n",
    "            if weight[i] > weight[i + 1]:\n",
    "                ans += 1\n",
    "                i += 1\n",
    "        return ans"
   ]
  },
  {
   "cell_type": "code",
   "execution_count": null,
   "metadata": {},
   "outputs": [],
   "source": [
    "class Solution(object):\n",
    "    def minTime(self, s, order, k):\n",
    "        \"\"\"\n",
    "        :type s: str\n",
    "        :type order: List[int]\n",
    "        :type k: int\n",
    "        :rtype: int\n",
    "        \"\"\"\n",
    "        n = len(s)\n",
    "        ans = 0\n",
    "        for i in range(n):\n",
    "            tmp = (order[i] + 1) * (n - order[i])\n",
    "            print(tmp)\n",
    "            for j in range(i):\n",
    "                if order[i] < order[j]:\n",
    "                    tmp -= (order[i] + 1) * (n - order[j])\n",
    "                else:\n",
    "                    tmp -= (order[j] + 1) * (n - order[i])\n",
    "                print(tmp)\n",
    "            ans += tmp\n",
    "            print(ans)\n",
    "            if ans >= k:\n",
    "                return i\n",
    "        return -1"
   ]
  },
  {
   "cell_type": "markdown",
   "metadata": {},
   "source": [
    "#### 2207(1550)"
   ]
  },
  {
   "cell_type": "code",
   "execution_count": null,
   "metadata": {},
   "outputs": [],
   "source": [
    "class Solution(object):\n",
    "    def maximumSubsequenceCount(self, text, pattern):\n",
    "        \"\"\"\n",
    "        :type text: str\n",
    "        :type pattern: str\n",
    "        :rtype: int\n",
    "        \"\"\"\n",
    "        if pattern[0] == pattern[1]:\n",
    "            num = text.count(pattern[0]) + 1\n",
    "            return num * (num - 1) / 2\n",
    "        \n",
    "        ans = 0\n",
    "\n",
    "        p0, p1 = 0, 0\n",
    "        for s in text:\n",
    "            if (s == pattern[0]):\n",
    "                p0 += 1\n",
    "            elif (s == pattern[1]):\n",
    "                p1 += 1\n",
    "                ans += p0\n",
    "        return ans + max(p0, p1)"
   ]
  },
  {
   "cell_type": "markdown",
   "metadata": {},
   "source": [
    "#### 926(1600)"
   ]
  },
  {
   "cell_type": "code",
   "execution_count": null,
   "metadata": {},
   "outputs": [],
   "source": [
    "class Solution(object):    \n",
    "    def minFlipsMonoIncr(self, s):\n",
    "        \"\"\"\n",
    "        :type s: str\n",
    "        :rtype: int\n",
    "        \"\"\"\n",
    "        i = 0\n",
    "        while s[i] != '1' and i < len(s):\n",
    "            i += 1\n",
    "        if i == len(s):\n",
    "            return 0\n",
    "\n",
    "        ans = 0\n",
    "        n0, n1 = 0, 0\n",
    "        flag = False\n",
    "        while i < len(s):\n",
    "            if (s[i] == '0'):\n",
    "                n0 += 1\n",
    "                i += 1\n",
    "                flag = True\n",
    "            elif (s[i] == '1' and not flag):\n",
    "                n1 += 1\n",
    "                i += 1\n",
    "            else:\n",
    "                if n0 >= n1:\n",
    "                    ans += n1\n",
    "                    n0, n1 = 0, 0\n",
    "                flag = False\n",
    "        ans += min(n0, n1)\n",
    "        return ans\n",
    "\n",
    "class Solution(object):    \n",
    "    def minFlipsMonoIncr(self, s):\n",
    "        n1, flip = 0, 0\n",
    "        for c in s:\n",
    "            if c == '1':\n",
    "                n1 += 1\n",
    "            else:\n",
    "                flip = min(flip + 1, n1)\n",
    "        return min(flip, n1)"
   ]
  },
  {
   "cell_type": "markdown",
   "metadata": {},
   "source": [
    "## Hard"
   ]
  },
  {
   "cell_type": "code",
   "execution_count": null,
   "metadata": {},
   "outputs": [],
   "source": []
  },
  {
   "cell_type": "markdown",
   "metadata": {},
   "source": [
    "# B. Some Algorithms"
   ]
  },
  {
   "cell_type": "markdown",
   "metadata": {},
   "source": [
    "## a. Prime Examination"
   ]
  },
  {
   "cell_type": "markdown",
   "metadata": {},
   "source": [
    "### Miller - Rabin (RA)"
   ]
  },
  {
   "cell_type": "markdown",
   "metadata": {},
   "source": [
    "(1) Error rate < 1 / 4^k  \n",
    "(2) Nice for large number prime examination  \n",
    "(3) O(k(logn)^3)"
   ]
  },
  {
   "cell_type": "code",
   "execution_count": null,
   "metadata": {},
   "outputs": [],
   "source": [
    "import random\n",
    "\n",
    "def is_prime_miller_rabin(n, k=10): # error rate: < 1 / 4^k\n",
    "    if n <= 1:\n",
    "        return False\n",
    "    if n <= 3:\n",
    "        return True\n",
    "    if n % 2 == 0:\n",
    "        return False\n",
    "\n",
    "    # 將 n-1 分解為 2^r * d\n",
    "    r, d = 0, n - 1\n",
    "    while d % 2 == 0:\n",
    "        d //= 2\n",
    "        r += 1\n",
    "\n",
    "    # 重複 k 次測試\n",
    "    for _ in range(k):              # for k = 10, \n",
    "        a = random.randint(2, n - 2)\n",
    "        x = pow(a, d, n)\n",
    "        if x == 1 or x == n - 1:\n",
    "            continue\n",
    "        for _ in range(r - 1):\n",
    "            x = pow(x, 2, n)\n",
    "            if x == n - 1:\n",
    "                break\n",
    "        else:\n",
    "            return False  # 合數\n",
    "    return True  # 可能是質數\n"
   ]
  },
  {
   "cell_type": "markdown",
   "metadata": {},
   "source": [
    "### Miller - Rabin (Deterministic for n < 2^64)"
   ]
  },
  {
   "cell_type": "code",
   "execution_count": null,
   "metadata": {},
   "outputs": [],
   "source": [
    "def is_prime_deterministic_mr(n):\n",
    "    if n < 2:\n",
    "        return False\n",
    "    if n in (2, 3):\n",
    "        return True\n",
    "    if n % 2 == 0:\n",
    "        return False\n",
    "\n",
    "    # 將 n-1 分解為 2^r * d\n",
    "    r, d = 0, n - 1\n",
    "    while d % 2 == 0:\n",
    "        d //= 2\n",
    "        r += 1\n",
    "\n",
    "    # 固定基底（適用於 n < 2^64）\n",
    "    bases = [2, 3, 5, 7, 11, 13, 17, 19, 23, 29, 31, 37]\n",
    "    for a in bases:\n",
    "        if a >= n:\n",
    "            continue\n",
    "        x = pow(a, d, n)\n",
    "        if x == 1 or x == n - 1:\n",
    "            continue\n",
    "        for _ in range(r - 1):\n",
    "            x = pow(x, 2, n)\n",
    "            if x == n - 1:\n",
    "                break\n",
    "        else:\n",
    "            return False\n",
    "    return True\n"
   ]
  },
  {
   "cell_type": "markdown",
   "metadata": {},
   "source": [
    "### Sieve of Eratosthenes\n",
    "O(nloglog(n))"
   ]
  },
  {
   "cell_type": "code",
   "execution_count": null,
   "metadata": {},
   "outputs": [],
   "source": [
    "def sieve_of_eratosthenes(limit):\n",
    "    sieve = [True] * (limit + 1)\n",
    "    sieve[0:2] = [False, False]\n",
    "\n",
    "    for i in range(2, int(limit**0.5) + 1):\n",
    "        if sieve[i]:\n",
    "            for j in range(i*i, limit + 1, i):\n",
    "                sieve[j] = False\n",
    "\n",
    "    primes = [i for i, is_prime in enumerate(sieve) if is_prime]\n",
    "    return primes\n"
   ]
  }
 ],
 "metadata": {
  "kernelspec": {
   "display_name": "Python 3",
   "language": "python",
   "name": "python3"
  },
  "language_info": {
   "codemirror_mode": {
    "name": "ipython",
    "version": 3
   },
   "file_extension": ".py",
   "mimetype": "text/x-python",
   "name": "python",
   "nbconvert_exporter": "python",
   "pygments_lexer": "ipython3",
   "version": "3.11.9"
  }
 },
 "nbformat": 4,
 "nbformat_minor": 2
}
